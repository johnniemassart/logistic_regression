{
 "cells": [
  {
   "cell_type": "code",
   "execution_count": 13,
   "metadata": {},
   "outputs": [],
   "source": [
    "# necessary imports\n",
    "import pandas as pd\n",
    "import numpy as np\n",
    "import matplotlib.pyplot as plt\n",
    "import seaborn as sns"
   ]
  },
  {
   "cell_type": "code",
   "execution_count": 24,
   "metadata": {},
   "outputs": [],
   "source": [
    "# read csv, drop unnecessary column\n",
    "df = pd.read_csv(\"./HR_comma_sep.csv\")\n",
    "df.drop([\"last_evaluation\"], axis=1, inplace=True)"
   ]
  },
  {
   "cell_type": "code",
   "execution_count": 52,
   "metadata": {},
   "outputs": [],
   "source": [
    "# store column categories in list\n",
    "department_categories = [i for i in df.Department.value_counts().index]\n",
    "salary_categories = [i for i in df.salary.value_counts().index]\n",
    "\n",
    "# replace categorical values into numerical values\n",
    "df.Department.replace(to_replace=department_categories, value=[i for i in range(len(department_categories))], inplace=True)\n",
    "df.salary.replace(to_replace=salary_categories,value=[i for i in range(len(salary_categories))],inplace=True)"
   ]
  },
  {
   "cell_type": "code",
   "execution_count": null,
   "metadata": {},
   "outputs": [],
   "source": []
  }
 ],
 "metadata": {
  "kernelspec": {
   "display_name": "base",
   "language": "python",
   "name": "python3"
  },
  "language_info": {
   "codemirror_mode": {
    "name": "ipython",
    "version": 3
   },
   "file_extension": ".py",
   "mimetype": "text/x-python",
   "name": "python",
   "nbconvert_exporter": "python",
   "pygments_lexer": "ipython3",
   "version": "3.11.5"
  }
 },
 "nbformat": 4,
 "nbformat_minor": 2
}
